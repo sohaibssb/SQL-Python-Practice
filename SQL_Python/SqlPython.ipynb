{
 "cells": [
  {
   "cell_type": "code",
   "execution_count": 4,
   "metadata": {},
   "outputs": [
    {
     "name": "stdout",
     "output_type": "stream",
     "text": [
      "Defaulting to user installation because normal site-packages is not writeable\n",
      "Requirement already satisfied: mysql-connector-python in /home/sohiab/.local/lib/python3.10/site-packages (9.1.0)\n",
      "\n",
      "\u001b[1m[\u001b[0m\u001b[34;49mnotice\u001b[0m\u001b[1;39;49m]\u001b[0m\u001b[39;49m A new release of pip is available: \u001b[0m\u001b[31;49m24.0\u001b[0m\u001b[39;49m -> \u001b[0m\u001b[32;49m24.2\u001b[0m\n",
      "\u001b[1m[\u001b[0m\u001b[34;49mnotice\u001b[0m\u001b[1;39;49m]\u001b[0m\u001b[39;49m To update, run: \u001b[0m\u001b[32;49mpip install --upgrade pip\u001b[0m\n",
      "Note: you may need to restart the kernel to use updated packages.\n"
     ]
    }
   ],
   "source": [
    "%pip install mysql-connector-python"
   ]
  },
  {
   "cell_type": "code",
   "execution_count": 2,
   "metadata": {},
   "outputs": [
    {
     "data": {
      "text/plain": [
       "True"
      ]
     },
     "execution_count": 2,
     "metadata": {},
     "output_type": "execute_result"
    }
   ],
   "source": [
    "import mysql.connector\n",
    "\n",
    "from mysql.connector import Error\n",
    "import pandas as pd\n",
    "from dotenv import load_dotenv\n",
    "import os\n",
    "\n",
    "load_dotenv()"
   ]
  },
  {
   "cell_type": "code",
   "execution_count": 3,
   "metadata": {},
   "outputs": [
    {
     "name": "stdout",
     "output_type": "stream",
     "text": [
      "MySQL Database Connection Successful\n"
     ]
    }
   ],
   "source": [
    "def create_server_connection(host_name, user_name, user_password):\n",
    "    connection = None\n",
    "    try: \n",
    "        connection = mysql.connector.connect(\n",
    "            host = host_name,\n",
    "            user = user_name,\n",
    "            passwd = user_password\n",
    "        )\n",
    "        print(\"MySQL Database Connection Successful\")\n",
    "    except Error as err:\n",
    "        print(f\"Error: '{err}'\")\n",
    "    return connection\n",
    "\n",
    "# MySQL Terminal Password\n",
    "pw = os.getenv(\"DB_PASSWORD\")\n",
    "# Database Name\n",
    "db = \"mysql_python\"\n",
    "connection = create_server_connection(\"localhost\", \"root\", pw)\n"
   ]
  },
  {
   "cell_type": "code",
   "execution_count": 4,
   "metadata": {},
   "outputs": [
    {
     "name": "stdout",
     "output_type": "stream",
     "text": [
      "Error: '1007 (HY000): Can't create database 'mysql_python'; database exists'\n"
     ]
    }
   ],
   "source": [
    "# Create mysql_python\n",
    "\n",
    "def create_database(connection, query):\n",
    "    cursor = connection.cursor()\n",
    "    try: \n",
    "        cursor.execute(query)\n",
    "        print(\"Database Create Successfully\")\n",
    "    except Error as err:\n",
    "        print(f\"Error: '{err}'\")\n",
    "\n",
    "create_database_query = \"create database mysql_python\"\n",
    "create_database(connection, create_database_query)"
   ]
  },
  {
   "cell_type": "code",
   "execution_count": 5,
   "metadata": {},
   "outputs": [],
   "source": [
    "# Connect to database\n",
    "\n",
    "def create_db_connection(host_name, user_name, user_password, db_name):\n",
    "    connection = None\n",
    "    try:\n",
    "        connection = mysql.connector.connect(\n",
    "            host = host_name, \n",
    "            user = user_name,\n",
    "            passwd = user_password,\n",
    "            database = db_name)\n",
    "        print(\"MySQL database connection successfull\")\n",
    "    except Error as err:\n",
    "        print(f\"Error: '{err}'\")\n",
    "    return connection"
   ]
  },
  {
   "cell_type": "code",
   "execution_count": 6,
   "metadata": {},
   "outputs": [],
   "source": [
    "# Execute sql queries\n",
    "\n",
    "def execute_query(connection, query):\n",
    "    cursor = connection.cursor()\n",
    "    try:\n",
    "        cursor.execute(query)\n",
    "        connection.commit()\n",
    "        print(\"Query was successful\")\n",
    "    except Error as err:\n",
    "        print(f\"Error: '{err}'\")"
   ]
  },
  {
   "cell_type": "code",
   "execution_count": 7,
   "metadata": {},
   "outputs": [
    {
     "name": "stdout",
     "output_type": "stream",
     "text": [
      "MySQL database connection successfull\n",
      "Error: '1050 (42S01): Table 'orders' already exists'\n"
     ]
    }
   ],
   "source": [
    "create_orders_table = \"\"\"\n",
    "create table orders(order_id int primary key, customer_name varchar(30) not null, product_name varchar(20) not null, date_ordered date, quantity int, unit_price float, phone_number varchar(20));\n",
    "\"\"\"\n",
    "\n",
    "# Connect to the database\n",
    "connection = create_db_connection(\"localhost\", \"root\", pw, db)\n",
    "execute_query(connection, create_orders_table)"
   ]
  },
  {
   "cell_type": "code",
   "execution_count": 9,
   "metadata": {},
   "outputs": [
    {
     "name": "stdout",
     "output_type": "stream",
     "text": [
      "MySQL database connection successfull\n",
      "Query was successful\n"
     ]
    }
   ],
   "source": [
    "# Insert Data\n",
    "\n",
    "data_orders = \"\"\"\n",
    "insert into orders values\n",
    "(101, 'Steve', 'Laptop', '2018-09-12', 1, 800, '6293730802'),\n",
    "(102, 'John', 'T-Shirt', '2019-06-22', 2, 200, '6293730803'),\n",
    "(103, 'An', 'Smart TV', '2023-10-15', 1, 400, '6293730705'),\n",
    "(104, 'So', 'Book', '2024-11-18', 4, 150, '6293730602'),\n",
    "(105, 'Ni', 'Laptop', '2020-07-01', 2, 1200, '6293730755'),\n",
    "(106, 'Ahm', 'Monitor', '2019-08-12', 3, 450, '6293730966');\n",
    "\"\"\"\n",
    "connection = create_db_connection(\"localhost\", \"root\", pw, db)\n",
    "execute_query(connection, data_orders)"
   ]
  },
  {
   "cell_type": "code",
   "execution_count": 10,
   "metadata": {},
   "outputs": [],
   "source": [
    "def read_query(connection, query):\n",
    "    cursor = connection.cursor()\n",
    "    result = None\n",
    "    try:\n",
    "        cursor.execute(query)\n",
    "        result = cursor.fetchall()\n",
    "        return result\n",
    "    except Error as err:\n",
    "        print(f\"Error: '{err}'\")"
   ]
  },
  {
   "cell_type": "code",
   "execution_count": 11,
   "metadata": {},
   "outputs": [
    {
     "name": "stdout",
     "output_type": "stream",
     "text": [
      "MySQL database connection successfull\n",
      "(101, 'Steve', 'Laptop', datetime.date(2018, 9, 12), 1, 800.0, '6293730802')\n",
      "(102, 'John', 'T-Shirt', datetime.date(2019, 6, 22), 2, 200.0, '6293730803')\n",
      "(103, 'An', 'Smart TV', datetime.date(2023, 10, 15), 1, 400.0, '6293730705')\n",
      "(104, 'So', 'Book', datetime.date(2024, 11, 18), 4, 150.0, '6293730602')\n",
      "(105, 'Ni', 'Laptop', datetime.date(2020, 7, 1), 2, 1200.0, '6293730755')\n",
      "(106, 'Ahm', 'Monitor', datetime.date(2019, 8, 12), 3, 450.0, '6293730966')\n"
     ]
    }
   ],
   "source": [
    "# Using the select stmt\n",
    "q1 = \"\"\"\n",
    "select * from orders;\n",
    "\"\"\"\n",
    "connection = create_db_connection(\"localhost\", \"root\", pw, db)\n",
    "results = read_query(connection, q1)\n",
    "for result in results:\n",
    "    print(result)"
   ]
  },
  {
   "cell_type": "code",
   "execution_count": 13,
   "metadata": {},
   "outputs": [
    {
     "name": "stdout",
     "output_type": "stream",
     "text": [
      "MySQL database connection successfull\n",
      "('Steve', '6293730802')\n",
      "('John', '6293730803')\n",
      "('An', '6293730705')\n",
      "('So', '6293730602')\n",
      "('Ni', '6293730755')\n",
      "('Ahm', '6293730966')\n"
     ]
    }
   ],
   "source": [
    "q2 = \"\"\"\n",
    "select customer_name, phone_number from orders;\n",
    "\"\"\"\n",
    "connection = create_db_connection(\"localhost\", \"root\", pw, db)\n",
    "results = read_query(connection, q2)\n",
    "for result in results:\n",
    "    print(result)"
   ]
  },
  {
   "cell_type": "code",
   "execution_count": 14,
   "metadata": {},
   "outputs": [
    {
     "name": "stdout",
     "output_type": "stream",
     "text": [
      "MySQL database connection successfull\n",
      "(2018,)\n",
      "(2019,)\n",
      "(2023,)\n",
      "(2024,)\n",
      "(2020,)\n",
      "(2019,)\n"
     ]
    }
   ],
   "source": [
    "q3 = \"\"\"\n",
    "select year(date_ordered) from orders;\n",
    "\"\"\"\n",
    "connection = create_db_connection(\"localhost\", \"root\", pw, db)\n",
    "results = read_query(connection, q3)\n",
    "for result in results:\n",
    "    print(result)"
   ]
  },
  {
   "cell_type": "code",
   "execution_count": 15,
   "metadata": {},
   "outputs": [
    {
     "name": "stdout",
     "output_type": "stream",
     "text": [
      "MySQL database connection successfull\n",
      "(2018,)\n",
      "(2019,)\n",
      "(2023,)\n",
      "(2024,)\n",
      "(2020,)\n"
     ]
    }
   ],
   "source": [
    "q4 = \"\"\"\n",
    "select distinct year(date_ordered) from orders;\n",
    "\"\"\"\n",
    "connection = create_db_connection(\"localhost\", \"root\", pw, db)\n",
    "results = read_query(connection, q4)\n",
    "for result in results:\n",
    "    print(result)"
   ]
  },
  {
   "cell_type": "code",
   "execution_count": 16,
   "metadata": {},
   "outputs": [
    {
     "name": "stdout",
     "output_type": "stream",
     "text": [
      "MySQL database connection successfull\n",
      "(101, 'Steve', 'Laptop', datetime.date(2018, 9, 12), 1, 800.0, '6293730802')\n",
      "(102, 'John', 'T-Shirt', datetime.date(2019, 6, 22), 2, 200.0, '6293730803')\n",
      "(105, 'Ni', 'Laptop', datetime.date(2020, 7, 1), 2, 1200.0, '6293730755')\n",
      "(106, 'Ahm', 'Monitor', datetime.date(2019, 8, 12), 3, 450.0, '6293730966')\n"
     ]
    }
   ],
   "source": [
    "q5 = \"\"\"\n",
    "select * from orders where date_ordered < '2020-12-31';\n",
    "\"\"\"\n",
    "connection = create_db_connection(\"localhost\", \"root\", pw, db)\n",
    "results = read_query(connection, q5)\n",
    "for result in results:\n",
    "    print(result)"
   ]
  },
  {
   "cell_type": "code",
   "execution_count": 18,
   "metadata": {},
   "outputs": [
    {
     "name": "stdout",
     "output_type": "stream",
     "text": [
      "MySQL database connection successfull\n",
      "(103, 'An', 'Smart TV', datetime.date(2023, 10, 15), 1, 400.0, '6293730705')\n",
      "(104, 'So', 'Book', datetime.date(2024, 11, 18), 4, 150.0, '6293730602')\n"
     ]
    }
   ],
   "source": [
    "q6 = \"\"\"\n",
    "select * from orders where date_ordered > '2020-12-31';\n",
    "\"\"\"\n",
    "connection = create_db_connection(\"localhost\", \"root\", pw, db)\n",
    "results = read_query(connection, q6)\n",
    "for result in results:\n",
    "    print(result)"
   ]
  },
  {
   "cell_type": "code",
   "execution_count": 20,
   "metadata": {},
   "outputs": [
    {
     "name": "stdout",
     "output_type": "stream",
     "text": [
      "MySQL database connection successfull\n",
      "(105, 'Ni', 'Laptop', datetime.date(2020, 7, 1), 2, 1200.0, '6293730755')\n",
      "(101, 'Steve', 'Laptop', datetime.date(2018, 9, 12), 1, 800.0, '6293730802')\n",
      "(106, 'Ahm', 'Monitor', datetime.date(2019, 8, 12), 3, 450.0, '6293730966')\n",
      "(103, 'An', 'Smart TV', datetime.date(2023, 10, 15), 1, 400.0, '6293730705')\n",
      "(102, 'John', 'T-Shirt', datetime.date(2019, 6, 22), 2, 200.0, '6293730803')\n",
      "(104, 'So', 'Book', datetime.date(2024, 11, 18), 4, 150.0, '6293730602')\n"
     ]
    }
   ],
   "source": [
    "q7 = \"\"\"\n",
    "select * from orders order by unit_price desc;\n",
    "\"\"\"\n",
    "connection = create_db_connection(\"localhost\", \"root\", pw, db)\n",
    "results = read_query(connection, q7)\n",
    "for result in results:\n",
    "    print(result)"
   ]
  },
  {
   "cell_type": "code",
   "execution_count": 21,
   "metadata": {},
   "outputs": [
    {
     "data": {
      "text/html": [
       "<div>\n",
       "<style scoped>\n",
       "    .dataframe tbody tr th:only-of-type {\n",
       "        vertical-align: middle;\n",
       "    }\n",
       "\n",
       "    .dataframe tbody tr th {\n",
       "        vertical-align: top;\n",
       "    }\n",
       "\n",
       "    .dataframe thead th {\n",
       "        text-align: right;\n",
       "    }\n",
       "</style>\n",
       "<table border=\"1\" class=\"dataframe\">\n",
       "  <thead>\n",
       "    <tr style=\"text-align: right;\">\n",
       "      <th></th>\n",
       "      <th>order_id</th>\n",
       "      <th>customer_name</th>\n",
       "      <th>product_name</th>\n",
       "      <th>date_ordered</th>\n",
       "      <th>quantity</th>\n",
       "      <th>unit_price</th>\n",
       "      <th>phone_number</th>\n",
       "    </tr>\n",
       "  </thead>\n",
       "  <tbody>\n",
       "    <tr>\n",
       "      <th>0</th>\n",
       "      <td>105</td>\n",
       "      <td>Ni</td>\n",
       "      <td>Laptop</td>\n",
       "      <td>2020-07-01</td>\n",
       "      <td>2</td>\n",
       "      <td>1200.0</td>\n",
       "      <td>6293730755</td>\n",
       "    </tr>\n",
       "    <tr>\n",
       "      <th>1</th>\n",
       "      <td>101</td>\n",
       "      <td>Steve</td>\n",
       "      <td>Laptop</td>\n",
       "      <td>2018-09-12</td>\n",
       "      <td>1</td>\n",
       "      <td>800.0</td>\n",
       "      <td>6293730802</td>\n",
       "    </tr>\n",
       "    <tr>\n",
       "      <th>2</th>\n",
       "      <td>106</td>\n",
       "      <td>Ahm</td>\n",
       "      <td>Monitor</td>\n",
       "      <td>2019-08-12</td>\n",
       "      <td>3</td>\n",
       "      <td>450.0</td>\n",
       "      <td>6293730966</td>\n",
       "    </tr>\n",
       "    <tr>\n",
       "      <th>3</th>\n",
       "      <td>103</td>\n",
       "      <td>An</td>\n",
       "      <td>Smart TV</td>\n",
       "      <td>2023-10-15</td>\n",
       "      <td>1</td>\n",
       "      <td>400.0</td>\n",
       "      <td>6293730705</td>\n",
       "    </tr>\n",
       "    <tr>\n",
       "      <th>4</th>\n",
       "      <td>102</td>\n",
       "      <td>John</td>\n",
       "      <td>T-Shirt</td>\n",
       "      <td>2019-06-22</td>\n",
       "      <td>2</td>\n",
       "      <td>200.0</td>\n",
       "      <td>6293730803</td>\n",
       "    </tr>\n",
       "    <tr>\n",
       "      <th>5</th>\n",
       "      <td>104</td>\n",
       "      <td>So</td>\n",
       "      <td>Book</td>\n",
       "      <td>2024-11-18</td>\n",
       "      <td>4</td>\n",
       "      <td>150.0</td>\n",
       "      <td>6293730602</td>\n",
       "    </tr>\n",
       "  </tbody>\n",
       "</table>\n",
       "</div>"
      ],
      "text/plain": [
       "   order_id customer_name product_name date_ordered  quantity  unit_price  \\\n",
       "0       105            Ni       Laptop   2020-07-01         2      1200.0   \n",
       "1       101         Steve       Laptop   2018-09-12         1       800.0   \n",
       "2       106           Ahm      Monitor   2019-08-12         3       450.0   \n",
       "3       103            An     Smart TV   2023-10-15         1       400.0   \n",
       "4       102          John      T-Shirt   2019-06-22         2       200.0   \n",
       "5       104            So         Book   2024-11-18         4       150.0   \n",
       "\n",
       "  phone_number  \n",
       "0   6293730755  \n",
       "1   6293730802  \n",
       "2   6293730966  \n",
       "3   6293730705  \n",
       "4   6293730803  \n",
       "5   6293730602  "
      ]
     },
     "metadata": {},
     "output_type": "display_data"
    }
   ],
   "source": [
    "# Data Frame\n",
    "from_db = []\n",
    "\n",
    "for result in results:\n",
    "    result = list(result)\n",
    "    from_db.append(result)\n",
    "columns = [\"order_id\", \"customer_name\", \"product_name\", \"date_ordered\", \"quantity\", \"unit_price\", \"phone_number\"]\n",
    "\n",
    "df = pd.DataFrame(from_db, columns = columns)\n",
    "\n",
    "display(df)"
   ]
  },
  {
   "cell_type": "code",
   "execution_count": 22,
   "metadata": {},
   "outputs": [
    {
     "name": "stdout",
     "output_type": "stream",
     "text": [
      "MySQL database connection successfull\n",
      "Query was successful\n"
     ]
    }
   ],
   "source": [
    "# Update Command\n",
    "\n",
    "update = \"\"\"\n",
    "update orders\n",
    "set unit_price = 250\n",
    "where order_id = 102;\n",
    "\"\"\"\n",
    "connection = create_db_connection(\"localhost\", \"root\", pw, db)\n",
    "execute_query(connection, update)"
   ]
  },
  {
   "cell_type": "code",
   "execution_count": 23,
   "metadata": {},
   "outputs": [
    {
     "name": "stdout",
     "output_type": "stream",
     "text": [
      "MySQL database connection successfull\n",
      "(102, 'John', 'T-Shirt', datetime.date(2019, 6, 22), 2, 250.0, '6293730803')\n"
     ]
    }
   ],
   "source": [
    "# Check the Update\n",
    "q8 = \"\"\"\n",
    "select * from orders where order_id = 102;\n",
    "\"\"\"\n",
    "connection = create_db_connection(\"localhost\", \"root\", pw, db)\n",
    "results = read_query(connection, q8)\n",
    "for result in results:\n",
    "    print(result)"
   ]
  },
  {
   "cell_type": "code",
   "execution_count": 25,
   "metadata": {},
   "outputs": [
    {
     "name": "stdout",
     "output_type": "stream",
     "text": [
      "MySQL database connection successfull\n",
      "Query was successful\n"
     ]
    }
   ],
   "source": [
    "# Delete Command\n",
    "\n",
    "delete_order = \"\"\"\n",
    "delete from orders\n",
    "where order_id = 101;\n",
    "\"\"\"\n",
    "connection = create_db_connection(\"localhost\", \"root\", pw, db)\n",
    "execute_query(connection, delete_order)"
   ]
  },
  {
   "cell_type": "code",
   "execution_count": 26,
   "metadata": {},
   "outputs": [
    {
     "name": "stdout",
     "output_type": "stream",
     "text": [
      "MySQL database connection successfull\n",
      "(102, 'John', 'T-Shirt', datetime.date(2019, 6, 22), 2, 250.0, '6293730803')\n",
      "(103, 'An', 'Smart TV', datetime.date(2023, 10, 15), 1, 400.0, '6293730705')\n",
      "(104, 'So', 'Book', datetime.date(2024, 11, 18), 4, 150.0, '6293730602')\n",
      "(105, 'Ni', 'Laptop', datetime.date(2020, 7, 1), 2, 1200.0, '6293730755')\n",
      "(106, 'Ahm', 'Monitor', datetime.date(2019, 8, 12), 3, 450.0, '6293730966')\n"
     ]
    }
   ],
   "source": [
    "# Check the Delete\n",
    "q9 = \"\"\"\n",
    "select * from orders;\n",
    "\"\"\"\n",
    "connection = create_db_connection(\"localhost\", \"root\", pw, db)\n",
    "results = read_query(connection, q9)\n",
    "for result in results:\n",
    "    print(result)"
   ]
  }
 ],
 "metadata": {
  "kernelspec": {
   "display_name": "Python 3",
   "language": "python",
   "name": "python3"
  },
  "language_info": {
   "codemirror_mode": {
    "name": "ipython",
    "version": 3
   },
   "file_extension": ".py",
   "mimetype": "text/x-python",
   "name": "python",
   "nbconvert_exporter": "python",
   "pygments_lexer": "ipython3",
   "version": "3.10.12"
  }
 },
 "nbformat": 4,
 "nbformat_minor": 2
}
