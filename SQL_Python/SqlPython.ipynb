{
 "cells": [
  {
   "cell_type": "code",
   "execution_count": 4,
   "metadata": {},
   "outputs": [
    {
     "name": "stdout",
     "output_type": "stream",
     "text": [
      "Defaulting to user installation because normal site-packages is not writeable\n",
      "Requirement already satisfied: mysql-connector-python in /home/sohiab/.local/lib/python3.10/site-packages (9.1.0)\n",
      "\n",
      "\u001b[1m[\u001b[0m\u001b[34;49mnotice\u001b[0m\u001b[1;39;49m]\u001b[0m\u001b[39;49m A new release of pip is available: \u001b[0m\u001b[31;49m24.0\u001b[0m\u001b[39;49m -> \u001b[0m\u001b[32;49m24.2\u001b[0m\n",
      "\u001b[1m[\u001b[0m\u001b[34;49mnotice\u001b[0m\u001b[1;39;49m]\u001b[0m\u001b[39;49m To update, run: \u001b[0m\u001b[32;49mpip install --upgrade pip\u001b[0m\n",
      "Note: you may need to restart the kernel to use updated packages.\n"
     ]
    }
   ],
   "source": [
    "%pip install mysql-connector-python"
   ]
  },
  {
   "cell_type": "code",
   "execution_count": 2,
   "metadata": {},
   "outputs": [
    {
     "data": {
      "text/plain": [
       "True"
      ]
     },
     "execution_count": 2,
     "metadata": {},
     "output_type": "execute_result"
    }
   ],
   "source": [
    "import mysql.connector\n",
    "\n",
    "from mysql.connector import Error\n",
    "import pandas as pd\n",
    "from dotenv import load_dotenv\n",
    "import os\n",
    "\n",
    "load_dotenv()"
   ]
  },
  {
   "cell_type": "code",
   "execution_count": 3,
   "metadata": {},
   "outputs": [
    {
     "name": "stdout",
     "output_type": "stream",
     "text": [
      "MySQL Database Connection Successful\n"
     ]
    }
   ],
   "source": [
    "def create_server_connection(host_name, user_name, user_password):\n",
    "    connection = None\n",
    "    try: \n",
    "        connection = mysql.connector.connect(\n",
    "            host = host_name,\n",
    "            user = user_name,\n",
    "            passwd = user_password\n",
    "        )\n",
    "        print(\"MySQL Database Connection Successful\")\n",
    "    except Error as err:\n",
    "        print(f\"Error: '{err}'\")\n",
    "    return connection\n",
    "\n",
    "# MySQL Terminal Password\n",
    "pw = os.getenv(\"DB_PASSWORD\")\n",
    "# Database Name\n",
    "db = \"mysql_python\"\n",
    "connection = create_server_connection(\"localhost\", \"root\", pw)\n"
   ]
  },
  {
   "cell_type": "code",
   "execution_count": 4,
   "metadata": {},
   "outputs": [
    {
     "name": "stdout",
     "output_type": "stream",
     "text": [
      "Error: '1007 (HY000): Can't create database 'mysql_python'; database exists'\n"
     ]
    }
   ],
   "source": [
    "# Create mysql_python\n",
    "\n",
    "def create_database(connection, query):\n",
    "    cursor = connection.cursor()\n",
    "    try: \n",
    "        cursor.execute(query)\n",
    "        print(\"Database Create Successfully\")\n",
    "    except Error as err:\n",
    "        print(f\"Error: '{err}'\")\n",
    "\n",
    "create_database_query = \"create database mysql_python\"\n",
    "create_database(connection, create_database_query)"
   ]
  },
  {
   "cell_type": "code",
   "execution_count": 5,
   "metadata": {},
   "outputs": [],
   "source": [
    "# Connect to database\n",
    "\n",
    "def create_db_connection(host_name, user_name, user_password, db_name):\n",
    "    connection = None\n",
    "    try:\n",
    "        connection = mysql.connector.connect(\n",
    "            host = host_name, \n",
    "            user = user_name,\n",
    "            passwd = user_password,\n",
    "            database = db_name)\n",
    "        print(\"MySQL database connection successfull\")\n",
    "    except Error as err:\n",
    "        print(f\"Error: '{err}'\")\n",
    "    return connection"
   ]
  },
  {
   "cell_type": "code",
   "execution_count": 6,
   "metadata": {},
   "outputs": [],
   "source": [
    "# Execute sql queries\n",
    "\n",
    "def execute_query(connection, query):\n",
    "    cursor = connection.cursor()\n",
    "    try:\n",
    "        cursor.execute(query)\n",
    "        connection.commit()\n",
    "        print(\"Query was successful\")\n",
    "    except Error as err:\n",
    "        print(f\"Error: '{err}'\")"
   ]
  },
  {
   "cell_type": "code",
   "execution_count": 7,
   "metadata": {},
   "outputs": [
    {
     "name": "stdout",
     "output_type": "stream",
     "text": [
      "MySQL database connection successfull\n",
      "Error: '1050 (42S01): Table 'orders' already exists'\n"
     ]
    }
   ],
   "source": [
    "create_orders_table = \"\"\"\n",
    "create table orders(order_id int primary key, customer_name varchar(30) not null, product_name varchar(20) not null, date_ordered date, quantity int, unit_price float, phone_number varchar(20));\n",
    "\"\"\"\n",
    "\n",
    "# Connect to the database\n",
    "connection = create_db_connection(\"localhost\", \"root\", pw, db)\n",
    "execute_query(connection, create_orders_table)"
   ]
  },
  {
   "cell_type": "code",
   "execution_count": 9,
   "metadata": {},
   "outputs": [
    {
     "name": "stdout",
     "output_type": "stream",
     "text": [
      "MySQL database connection successfull\n",
      "Query was successful\n"
     ]
    }
   ],
   "source": [
    "# Insert Data\n",
    "\n",
    "data_orders = \"\"\"\n",
    "insert into orders values\n",
    "(101, 'Steve', 'Laptop', '2018-09-12', 1, 800, '6293730802'),\n",
    "(102, 'John', 'T-Shirt', '2019-06-22', 2, 200, '6293730803'),\n",
    "(103, 'An', 'Smart TV', '2023-10-15', 1, 400, '6293730705'),\n",
    "(104, 'So', 'Book', '2024-11-18', 4, 150, '6293730602'),\n",
    "(105, 'Ni', 'Laptop', '2020-07-01', 2, 1200, '6293730755'),\n",
    "(106, 'Ahm', 'Monitor', '2019-08-12', 3, 450, '6293730966');\n",
    "\"\"\"\n",
    "connection = create_db_connection(\"localhost\", \"root\", pw, db)\n",
    "execute_query(connection, data_orders)"
   ]
  }
 ],
 "metadata": {
  "kernelspec": {
   "display_name": "Python 3",
   "language": "python",
   "name": "python3"
  },
  "language_info": {
   "codemirror_mode": {
    "name": "ipython",
    "version": 3
   },
   "file_extension": ".py",
   "mimetype": "text/x-python",
   "name": "python",
   "nbconvert_exporter": "python",
   "pygments_lexer": "ipython3",
   "version": "3.10.12"
  }
 },
 "nbformat": 4,
 "nbformat_minor": 2
}
